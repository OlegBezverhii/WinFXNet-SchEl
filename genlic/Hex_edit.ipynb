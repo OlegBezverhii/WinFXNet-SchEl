{
 "cells": [
  {
   "cell_type": "raw",
   "id": "0db60a55-a7da-497f-b2c8-3c12cf9e5784",
   "metadata": {},
   "source": [
    "Для пробы"
   ]
  },
  {
   "cell_type": "raw",
   "id": "8dd2e174-6018-444e-9e07-e0ce691aa53f",
   "metadata": {},
   "source": [
    "val = 'a'\n",
    "print(hex(ord(val))[2]) # 6\n",
    "print(hex(ord(val))[3]) # 1\n",
    "print(hex(ord(val)))"
   ]
  },
  {
   "cell_type": "raw",
   "id": "cc0f6fcf-fc17-4400-9f17-83c5120a9a1f",
   "metadata": {},
   "source": [
    "https://stackoverflow.com/questions/31151107/how-do-i-do-a-bitwise-not-operation-in-python"
   ]
  },
  {
   "cell_type": "raw",
   "id": "70ad3597-432e-44c6-8227-dd243346e510",
   "metadata": {},
   "source": [
    "print(hex(18))\n",
    "print(chr(0x12))\n",
    "print(ord('\\x12'))\n"
   ]
  },
  {
   "cell_type": "raw",
   "id": "0e94e177-ee4c-4e23-b467-5846063f4431",
   "metadata": {},
   "source": [
    "name = input('Enter a name: ')\n",
    "name"
   ]
  },
  {
   "cell_type": "raw",
   "id": "5fed39ec-66a2-4357-ad70-de8bfcc2a402",
   "metadata": {},
   "source": [
    "Считать файл"
   ]
  },
  {
   "cell_type": "raw",
   "id": "b9ba6285-6d0a-4cd5-a317-9b5e39a44f2d",
   "metadata": {
    "scrolled": true
   },
   "source": [
    "with open('WinFXNet.lic',\"rb\",buffering=-1) as f:\n",
    "    for line in f:\n",
    "        for c in line:\n",
    "            #print(c)\n",
    "            print(hex(c))"
   ]
  },
  {
   "cell_type": "raw",
   "id": "fff32fb8-46ac-4293-b98f-2c0cec68ea87",
   "metadata": {},
   "source": [
    "# Opening the binary file in binary mode as rb(read binary)\n",
    "f = open(\"WinFXNet.lic\", mode=\"rb\")\n",
    " \n",
    "# Reading file data with read() method\n",
    "data = f.read()\n",
    " \n",
    "# Knowing the Type of our data\n",
    "print(type(data))\n",
    " \n",
    "# Printing our byte sequenced data \n",
    "print(data)\n",
    " \n",
    "# Closing the opened file\n",
    "f.close()"
   ]
  },
  {
   "cell_type": "raw",
   "id": "8f0ce12d-893d-4f09-9357-81cf16d72d5a",
   "metadata": {},
   "source": [
    "Примеры запросов в HEX по байтам."
   ]
  },
  {
   "cell_type": "raw",
   "id": "754a846a-0192-446c-861b-4d4b9d725817",
   "metadata": {},
   "source": [
    "print(data[128])"
   ]
  },
  {
   "cell_type": "raw",
   "id": "b5a8ff37-a532-42eb-9c3d-1fb4613802c1",
   "metadata": {},
   "source": [
    "print(hex(data[128]))"
   ]
  },
  {
   "cell_type": "raw",
   "id": "4f9911e1-d7d0-4812-acb1-e938f2ef03d4",
   "metadata": {},
   "source": [
    "hex(128)"
   ]
  },
  {
   "cell_type": "raw",
   "id": "439fc577-51b3-48ce-861e-dc2b182b8a2a",
   "metadata": {},
   "source": [
    "hex(data[0x80])"
   ]
  },
  {
   "cell_type": "raw",
   "id": "83fe8717-9da1-499a-b45e-8e2705831cdf",
   "metadata": {},
   "source": [
    "hex(130)"
   ]
  },
  {
   "cell_type": "raw",
   "id": "058481bb-a594-4dc7-93bb-e76262022010",
   "metadata": {},
   "source": [
    "hex(data[0x82])"
   ]
  },
  {
   "cell_type": "raw",
   "id": "d46b8e71-f01a-4059-9c34-066eb4c14070",
   "metadata": {},
   "source": [
    "eax = hex(data[130])\n",
    "eax"
   ]
  },
  {
   "cell_type": "raw",
   "id": "b6ef014b-4ba4-48b7-b660-fffef1de22a2",
   "metadata": {},
   "source": [
    "edx = hex(data[128])\n",
    "edx"
   ]
  },
  {
   "cell_type": "raw",
   "id": "9de09e5a-9251-423b-89a2-20fc30083be8",
   "metadata": {},
   "source": [
    "int_value = int(edx, base=16)\n",
    "int_value"
   ]
  },
  {
   "cell_type": "raw",
   "id": "f139cd2f-7db2-4e82-af80-9530185ed0bd",
   "metadata": {},
   "source": [
    "bin_value = bin(int_value)\n",
    "bin_value"
   ]
  },
  {
   "cell_type": "raw",
   "id": "4a17e2e1-2809-4bf1-8a1b-2b08e2e64663",
   "metadata": {},
   "source": [
    "first_string = '.*This is a software license data file from Oy ESMI Ab, Finland. Do not modify this file. Doing so will impair the licensed sw!*_'\n",
    "first_string\n",
    "print('Length string =', len(first_string))\n",
    "first_string[0]\n",
    "first_string[128]"
   ]
  },
  {
   "cell_type": "markdown",
   "id": "1619d3ca-d4c9-4414-b30e-ab9b7166fcd5",
   "metadata": {},
   "source": [
    "Примеры"
   ]
  },
  {
   "cell_type": "raw",
   "id": "7ab3301a-4e1b-45bd-bc60-dbb75bebf393",
   "metadata": {},
   "source": [
    "hex(my_hex)"
   ]
  },
  {
   "cell_type": "raw",
   "id": "6df9b4fd-7344-47f5-a82b-9fa5456d2d9c",
   "metadata": {},
   "source": [
    "hex(data[130])"
   ]
  },
  {
   "cell_type": "raw",
   "id": "98246a1e-8dda-487b-8807-875d57dc6c40",
   "metadata": {},
   "source": [
    "bin(bit_not(0b100000))"
   ]
  },
  {
   "cell_type": "markdown",
   "id": "593b08f8-9e0d-4058-8c76-b7272d231da3",
   "metadata": {},
   "source": [
    "Начало кода здесь.\n",
    "Считываем файл лицензии в бинарный формат"
   ]
  },
  {
   "cell_type": "code",
   "execution_count": null,
   "id": "d70fbf80-e041-4dfe-af86-1c2d427fe127",
   "metadata": {},
   "outputs": [],
   "source": [
    "# Opening the binary file in binary mode as rb(read binary)\n",
    "f = open(\"WinFXNet.lic\", mode=\"rb\")\n",
    "# Reading file data with read() method\n",
    "data = f.read()\n",
    "# Closing the opened file\n",
    "f.close()\n",
    "\n",
    "#print('Length =', len(data))"
   ]
  },
  {
   "cell_type": "raw",
   "id": "86056e4b-89f3-43f3-abbb-05c87dacc2fa",
   "metadata": {},
   "source": [
    "# Printing our byte sequenced data \n",
    "print(data)"
   ]
  },
  {
   "cell_type": "markdown",
   "id": "a1d20e60-6e46-40ab-976d-fb380c4ea30a",
   "metadata": {},
   "source": [
    "Перекладываем в EDX по смещению 80"
   ]
  },
  {
   "cell_type": "raw",
   "id": "7ae9bf21-950c-42c9-91fc-caa1c4265fb6",
   "metadata": {},
   "source": [
    "movzx       edx,byte ptr [esi+80]"
   ]
  },
  {
   "cell_type": "code",
   "execution_count": null,
   "id": "efc81a63-f49f-48f3-bf66-78eff82f2aa6",
   "metadata": {},
   "outputs": [],
   "source": [
    "esi = 0x80"
   ]
  },
  {
   "cell_type": "code",
   "execution_count": null,
   "id": "b9edbe7e-a9de-427e-bf0a-1b74ad8643ff",
   "metadata": {},
   "outputs": [],
   "source": [
    "edx = hex(data[esi])\n",
    "edx\n",
    "#print(type(edx))"
   ]
  },
  {
   "cell_type": "raw",
   "id": "77025d65-4b7e-459a-81d5-2fb2c8cdb35d",
   "metadata": {},
   "source": [
    "mov         cl,7E"
   ]
  },
  {
   "cell_type": "code",
   "execution_count": null,
   "id": "86ceae08-cc77-42ac-9f44-34e29c449787",
   "metadata": {},
   "outputs": [],
   "source": [
    "cl = 0x7E"
   ]
  },
  {
   "cell_type": "raw",
   "id": "28ab4612-5a0c-40e0-aebb-2bd48b847eae",
   "metadata": {},
   "source": [
    "Перекладываем в EAX по смещению 82"
   ]
  },
  {
   "cell_type": "raw",
   "id": "cd9cf3d9-7e6f-48fd-9112-66a757ec92d8",
   "metadata": {},
   "source": [
    "lea         eax,[esi+82]"
   ]
  },
  {
   "cell_type": "raw",
   "id": "a15ce085-2ef3-4502-b740-6e1b42d80e1c",
   "metadata": {},
   "source": [
    "Команда LEA в Ассемблере вычисляет эффективный адрес ИСТОЧНИКА и помещает его в ПРИЁМНИК"
   ]
  },
  {
   "cell_type": "code",
   "execution_count": null,
   "id": "eb5688db-b3bc-4267-9296-d83b5ac8d545",
   "metadata": {},
   "outputs": [],
   "source": [
    "my_hex2 = esi + 2"
   ]
  },
  {
   "cell_type": "raw",
   "id": "ca3d8d13-9c02-403c-a8bd-d00f96cfe2c1",
   "metadata": {},
   "source": [
    "my_hex2"
   ]
  },
  {
   "cell_type": "code",
   "execution_count": null,
   "id": "ea36efcf-4eaf-42c3-97e8-2455ae0511b2",
   "metadata": {},
   "outputs": [],
   "source": [
    "eax = hex(data[my_hex2])\n",
    "#eax"
   ]
  },
  {
   "cell_type": "markdown",
   "id": "f4639096-3543-446e-945f-092dd66587c4",
   "metadata": {},
   "source": [
    "Продумать, как сделать movzx ebx, dl"
   ]
  },
  {
   "cell_type": "raw",
   "id": "d20d804b-65bb-47ba-99da-c1c891ec0190",
   "metadata": {},
   "source": [
    "edx\n",
    "dl - это 'нижняя' часть edx"
   ]
  },
  {
   "cell_type": "code",
   "execution_count": null,
   "id": "a232a926-8b85-48c1-bbfb-064984ab24f5",
   "metadata": {},
   "outputs": [],
   "source": [
    "ebx = edx\n",
    "ebx"
   ]
  },
  {
   "cell_type": "markdown",
   "id": "d7ad6e95-5ca3-404a-8f26-d9e546fa7138",
   "metadata": {},
   "source": [
    "В ebx перекладываем байты из адреса ESI+EBX\n",
    "ESI - начало файла (0)\n",
    "EBX - из ячейки выше"
   ]
  },
  {
   "cell_type": "code",
   "execution_count": null,
   "id": "a4b2924b-ce86-42e6-bf74-b67ffcbba831",
   "metadata": {},
   "outputs": [],
   "source": [
    "int_ebx = int(ebx, base=16)"
   ]
  },
  {
   "cell_type": "code",
   "execution_count": null,
   "id": "234ece7f-4d4c-4399-8639-832040ffac33",
   "metadata": {},
   "outputs": [],
   "source": [
    "ebx = hex(data[int_ebx])\n",
    "ebx "
   ]
  },
  {
   "cell_type": "raw",
   "id": "c96c0a7a-4f50-4ee2-9e2d-960cf4a4caf7",
   "metadata": {},
   "source": [
    "not         bl"
   ]
  },
  {
   "cell_type": "code",
   "execution_count": null,
   "id": "7414b630-963f-4560-ad0e-27427804e736",
   "metadata": {},
   "outputs": [],
   "source": [
    "#бинарное \n",
    "def bit_not(n, numbits=8):\n",
    "    return (1 << numbits) - 1 - n"
   ]
  },
  {
   "cell_type": "code",
   "execution_count": null,
   "id": "b51a65f6-08db-4593-98a9-971d866a05cc",
   "metadata": {},
   "outputs": [],
   "source": [
    "int_ebx = int(ebx, base=16) #Из HEX в INT 10ый\n",
    "bin_ebx = bin(int_ebx)      #Из INT в BIN\n",
    "#bin_ebx\n",
    "int_bin_ebx = int(bin_ebx, base=2)  #Из BIN в INT 10ый"
   ]
  },
  {
   "cell_type": "raw",
   "id": "1acd6765-8cf8-43d8-9e88-5f3844513f6d",
   "metadata": {},
   "source": [
    "print(type(bin_ebx))"
   ]
  },
  {
   "cell_type": "code",
   "execution_count": null,
   "id": "5c09cee0-b3c9-4971-b9d4-89aef2d1f246",
   "metadata": {},
   "outputs": [],
   "source": [
    "not_bl = bit_not(int_bin_ebx)"
   ]
  },
  {
   "cell_type": "code",
   "execution_count": null,
   "id": "995b1df8-b267-4678-b01f-c08f00027007",
   "metadata": {},
   "outputs": [],
   "source": [
    "hex(not_bl)"
   ]
  },
  {
   "cell_type": "raw",
   "id": "2247e552-87ad-4718-aca6-22ca6cd6bc6e",
   "metadata": {},
   "source": [
    "ebx = hex(not_bl)"
   ]
  },
  {
   "cell_type": "code",
   "execution_count": null,
   "id": "f654ea08-51e9-4585-b2ac-041e0f5d536b",
   "metadata": {},
   "outputs": [],
   "source": [
    "ebx2 = hex(not_bl)\n",
    "ebx2"
   ]
  },
  {
   "cell_type": "markdown",
   "id": "ec1b4893-a82b-4e54-af31-cfd623e6681e",
   "metadata": {},
   "source": [
    "Тут решить че к чему"
   ]
  },
  {
   "cell_type": "raw",
   "id": "9b27b35d-8b33-4ea9-85d0-dfd2f8b995f8",
   "metadata": {},
   "source": [
    "sub         byte ptr [eax],bl"
   ]
  },
  {
   "cell_type": "code",
   "execution_count": null,
   "id": "637dd7cc-6335-49ba-9653-0bf9ce00c1a6",
   "metadata": {},
   "outputs": [],
   "source": [
    "eax"
   ]
  },
  {
   "cell_type": "code",
   "execution_count": null,
   "id": "8d15dc25-3e0e-41f8-86db-d6f092b0616d",
   "metadata": {},
   "outputs": [],
   "source": [
    "bl= ebx2\n",
    "bl"
   ]
  },
  {
   "cell_type": "code",
   "execution_count": null,
   "id": "0c0063da-a965-4074-8b83-aadf503b9865",
   "metadata": {},
   "outputs": [],
   "source": [
    "#eax_sub = hex(int(eax, base=16))\n",
    "eax_sub = int(eax, base=16)\n",
    "eax_sub"
   ]
  },
  {
   "cell_type": "code",
   "execution_count": null,
   "id": "6e72074d-0925-4390-a6bc-7953b3f3aafd",
   "metadata": {},
   "outputs": [],
   "source": [
    "bl_sub = int(bl, base=16)\n",
    "bl_sub"
   ]
  },
  {
   "cell_type": "code",
   "execution_count": null,
   "id": "6e4f3df2-1326-4717-a043-01231bb224a2",
   "metadata": {},
   "outputs": [],
   "source": [
    "subs = eax_sub - bl_sub\n",
    "subs"
   ]
  },
  {
   "cell_type": "raw",
   "id": "48e06bc9-2eb1-44d1-8210-35a4ab77c08d",
   "metadata": {},
   "source": [
    "вообще верно - получается -23"
   ]
  },
  {
   "cell_type": "code",
   "execution_count": null,
   "id": "fa2a02c0-c7ab-4207-949e-6fc3c4bd1c5e",
   "metadata": {},
   "outputs": [],
   "source": [
    "bin_subs = bin((1 << 8)+subs)"
   ]
  },
  {
   "cell_type": "code",
   "execution_count": null,
   "id": "305df4e4-22c0-4876-8241-f782e0b988db",
   "metadata": {},
   "outputs": [],
   "source": [
    "int_bin_subs = int(bin_subs, base=2)    #Из BIN в INT\n",
    "bin_eax = hex(int_bin_subs)             #Из INT в HEX"
   ]
  },
  {
   "cell_type": "code",
   "execution_count": 64,
   "id": "1611e0b9-78ea-469d-9301-a9e8a05cfc3c",
   "metadata": {},
   "outputs": [
    {
     "data": {
      "text/plain": [
       "'0xe9'"
      ]
     },
     "execution_count": 64,
     "metadata": {},
     "output_type": "execute_result"
    }
   ],
   "source": [
    "bin_eax"
   ]
  },
  {
   "cell_type": "code",
   "execution_count": 65,
   "id": "5f0999d6-dec1-4b1f-9dc1-7306ad27474d",
   "metadata": {},
   "outputs": [
    {
     "data": {
      "text/plain": [
       "233"
      ]
     },
     "execution_count": 65,
     "metadata": {},
     "output_type": "execute_result"
    }
   ],
   "source": [
    "int_bin_subs"
   ]
  },
  {
   "cell_type": "raw",
   "id": "6e866b77-8e42-4f7a-b37d-6c8694b75cc6",
   "metadata": {},
   "source": [
    "То есть мы вычитали из позиции 82 "
   ]
  },
  {
   "cell_type": "code",
   "execution_count": null,
   "id": "7a6e45d3-5764-4968-8199-243259a01b2e",
   "metadata": {},
   "outputs": [],
   "source": [
    "hex(my_hex2)"
   ]
  },
  {
   "cell_type": "raw",
   "id": "b0b473c3-ffd5-4788-a782-98349e842a43",
   "metadata": {},
   "source": [
    "из этой позиции значение eax ('0xc8'), потом выполняем вычитание и уже полученное значение записываем опять в позицию 82."
   ]
  },
  {
   "cell_type": "code",
   "execution_count": null,
   "id": "674bebc8-070a-4d0c-94ef-fbfcdfffa104",
   "metadata": {},
   "outputs": [],
   "source": [
    "data2 = data"
   ]
  },
  {
   "cell_type": "code",
   "execution_count": null,
   "id": "6534b3d9-8af1-43d5-b8e5-7d7e6a0c3175",
   "metadata": {},
   "outputs": [],
   "source": [
    "hex(data2[my_hex2])"
   ]
  },
  {
   "cell_type": "code",
   "execution_count": null,
   "id": "f7dcd800-ce1c-496c-a0d2-0c59b5c91042",
   "metadata": {},
   "outputs": [],
   "source": [
    "print(type(data2))"
   ]
  },
  {
   "cell_type": "code",
   "execution_count": null,
   "id": "70dcd94d-3649-4e8d-9726-c876e6bbcf95",
   "metadata": {},
   "outputs": [],
   "source": [
    "data2[my_hex2] = bin_eax"
   ]
  },
  {
   "cell_type": "code",
   "execution_count": null,
   "id": "abcee7e0-9da5-40a0-97da-f69310138fb1",
   "metadata": {},
   "outputs": [],
   "source": [
    "blist = list(data)"
   ]
  },
  {
   "cell_type": "code",
   "execution_count": 66,
   "id": "b02737dd-1637-41ed-9bba-f385c30cc77b",
   "metadata": {},
   "outputs": [],
   "source": [
    "blist[my_hex2] = int_bin_subs"
   ]
  },
  {
   "cell_type": "code",
   "execution_count": 67,
   "id": "0e0d7f03-1bde-4f93-a8f4-5ce059e19a85",
   "metadata": {},
   "outputs": [
    {
     "data": {
      "text/plain": [
       "[127,\n",
       " 42,\n",
       " 84,\n",
       " 104,\n",
       " 105,\n",
       " 115,\n",
       " 32,\n",
       " 105,\n",
       " 115,\n",
       " 32,\n",
       " 97,\n",
       " 32,\n",
       " 115,\n",
       " 111,\n",
       " 102,\n",
       " 116,\n",
       " 119,\n",
       " 97,\n",
       " 114,\n",
       " 101,\n",
       " 32,\n",
       " 108,\n",
       " 105,\n",
       " 99,\n",
       " 101,\n",
       " 110,\n",
       " 115,\n",
       " 101,\n",
       " 32,\n",
       " 100,\n",
       " 97,\n",
       " 116,\n",
       " 97,\n",
       " 32,\n",
       " 102,\n",
       " 105,\n",
       " 108,\n",
       " 101,\n",
       " 32,\n",
       " 102,\n",
       " 114,\n",
       " 111,\n",
       " 109,\n",
       " 32,\n",
       " 79,\n",
       " 121,\n",
       " 32,\n",
       " 69,\n",
       " 83,\n",
       " 77,\n",
       " 73,\n",
       " 32,\n",
       " 65,\n",
       " 98,\n",
       " 44,\n",
       " 32,\n",
       " 70,\n",
       " 105,\n",
       " 110,\n",
       " 108,\n",
       " 97,\n",
       " 110,\n",
       " 100,\n",
       " 46,\n",
       " 32,\n",
       " 68,\n",
       " 111,\n",
       " 32,\n",
       " 110,\n",
       " 111,\n",
       " 116,\n",
       " 32,\n",
       " 109,\n",
       " 111,\n",
       " 100,\n",
       " 105,\n",
       " 102,\n",
       " 121,\n",
       " 32,\n",
       " 116,\n",
       " 104,\n",
       " 105,\n",
       " 115,\n",
       " 32,\n",
       " 102,\n",
       " 105,\n",
       " 108,\n",
       " 101,\n",
       " 46,\n",
       " 32,\n",
       " 68,\n",
       " 111,\n",
       " 105,\n",
       " 110,\n",
       " 103,\n",
       " 32,\n",
       " 115,\n",
       " 111,\n",
       " 32,\n",
       " 119,\n",
       " 105,\n",
       " 108,\n",
       " 108,\n",
       " 32,\n",
       " 105,\n",
       " 109,\n",
       " 112,\n",
       " 97,\n",
       " 105,\n",
       " 114,\n",
       " 32,\n",
       " 116,\n",
       " 104,\n",
       " 101,\n",
       " 32,\n",
       " 108,\n",
       " 105,\n",
       " 99,\n",
       " 101,\n",
       " 110,\n",
       " 115,\n",
       " 101,\n",
       " 100,\n",
       " 32,\n",
       " 115,\n",
       " 119,\n",
       " 33,\n",
       " 42,\n",
       " 95,\n",
       " 3,\n",
       " 233,\n",
       " 166,\n",
       " 147,\n",
       " 223,\n",
       " 7,\n",
       " 150,\n",
       " 172,\n",
       " 230,\n",
       " 36,\n",
       " 182,\n",
       " 216,\n",
       " 248,\n",
       " 16,\n",
       " 251,\n",
       " 173,\n",
       " 5,\n",
       " 171,\n",
       " 234,\n",
       " 255,\n",
       " 66,\n",
       " 8,\n",
       " 8,\n",
       " 5,\n",
       " 14,\n",
       " 10,\n",
       " 172,\n",
       " 233,\n",
       " 20,\n",
       " 223,\n",
       " 140,\n",
       " 136,\n",
       " 222,\n",
       " 7,\n",
       " 212,\n",
       " 39,\n",
       " 236,\n",
       " 229,\n",
       " 233,\n",
       " 218,\n",
       " 36,\n",
       " 220,\n",
       " 224,\n",
       " 236,\n",
       " 168,\n",
       " 42,\n",
       " 251,\n",
       " 254,\n",
       " 12,\n",
       " 255,\n",
       " 233,\n",
       " 12,\n",
       " 1,\n",
       " 3,\n",
       " 77,\n",
       " 179,\n",
       " 228,\n",
       " 253,\n",
       " 5,\n",
       " 0,\n",
       " 250,\n",
       " 255,\n",
       " 66,\n",
       " 3,\n",
       " 12,\n",
       " 244,\n",
       " 9,\n",
       " 78,\n",
       " 15,\n",
       " 150,\n",
       " 147,\n",
       " 154,\n",
       " 223,\n",
       " 153,\n",
       " 141,\n",
       " 144,\n",
       " 146,\n",
       " 223,\n",
       " 176,\n",
       " 134,\n",
       " 223,\n",
       " 186,\n",
       " 172,\n",
       " 178,\n",
       " 196,\n",
       " 37,\n",
       " 238,\n",
       " 206,\n",
       " 0,\n",
       " 21,\n",
       " 241,\n",
       " 206,\n",
       " 202,\n",
       " 192,\n",
       " 208,\n",
       " 196,\n",
       " 204,\n",
       " 3,\n",
       " 17,\n",
       " 195,\n",
       " 194,\n",
       " 15,\n",
       " 195,\n",
       " 197,\n",
       " 187,\n",
       " 16,\n",
       " 196,\n",
       " 193,\n",
       " 155,\n",
       " 150,\n",
       " 153,\n",
       " 134,\n",
       " 223,\n",
       " 139,\n",
       " 151,\n",
       " 150,\n",
       " 140,\n",
       " 223,\n",
       " 153,\n",
       " 150,\n",
       " 147,\n",
       " 154,\n",
       " 209,\n",
       " 223,\n",
       " 187,\n",
       " 144,\n",
       " 150,\n",
       " 222,\n",
       " 45,\n",
       " 28,\n",
       " 14,\n",
       " 252,\n",
       " 82,\n",
       " 39,\n",
       " 255,\n",
       " 31,\n",
       " 6,\n",
       " 133,\n",
       " 214,\n",
       " 75,\n",
       " 103,\n",
       " 118,\n",
       " 111,\n",
       " 36,\n",
       " 102,\n",
       " 29,\n",
       " 79,\n",
       " 31,\n",
       " 174,\n",
       " 113,\n",
       " 107,\n",
       " 106,\n",
       " 124,\n",
       " 125,\n",
       " 17,\n",
       " 9,\n",
       " 120,\n",
       " 64,\n",
       " 0,\n",
       " 233,\n",
       " 254,\n",
       " 109,\n",
       " 61,\n",
       " 147,\n",
       " 81,\n",
       " 5,\n",
       " 79,\n",
       " 76,\n",
       " 147,\n",
       " 73,\n",
       " 0,\n",
       " 59,\n",
       " 33,\n",
       " 74,\n",
       " 64,\n",
       " 81,\n",
       " 89,\n",
       " 72,\n",
       " 9,\n",
       " 77,\n",
       " 99,\n",
       " 47,\n",
       " 109,\n",
       " 249,\n",
       " 77,\n",
       " 107,\n",
       " 113,\n",
       " 97,\n",
       " 104,\n",
       " 99,\n",
       " 112,\n",
       " 35,\n",
       " 80,\n",
       " 99,\n",
       " 41,\n",
       " 188,\n",
       " 126,\n",
       " 10,\n",
       " 179,\n",
       " 7,\n",
       " 78,\n",
       " 253,\n",
       " 246,\n",
       " 246,\n",
       " 11,\n",
       " 255,\n",
       " 36,\n",
       " 238,\n",
       " 72,\n",
       " 45,\n",
       " 204,\n",
       " 24,\n",
       " 45,\n",
       " 145,\n",
       " 83,\n",
       " 252,\n",
       " 32,\n",
       " 89,\n",
       " 96,\n",
       " 55,\n",
       " 56,\n",
       " 39,\n",
       " 240,\n",
       " 55,\n",
       " 59,\n",
       " 35,\n",
       " 136,\n",
       " 44,\n",
       " 46,\n",
       " 123,\n",
       " 227,\n",
       " 46,\n",
       " 40,\n",
       " 128,\n",
       " 37,\n",
       " 42,\n",
       " 13,\n",
       " 182,\n",
       " 13,\n",
       " 238,\n",
       " 68,\n",
       " 171,\n",
       " 3,\n",
       " 255,\n",
       " 239,\n",
       " 68,\n",
       " 7,\n",
       " 9,\n",
       " 248,\n",
       " 254,\n",
       " 241,\n",
       " 82,\n",
       " 50,\n",
       " 177,\n",
       " 192,\n",
       " 188,\n",
       " 90,\n",
       " 56,\n",
       " 28,\n",
       " 248,\n",
       " 164,\n",
       " 78,\n",
       " 254,\n",
       " 62,\n",
       " 12,\n",
       " 10,\n",
       " 172,\n",
       " 150,\n",
       " 206,\n",
       " 236,\n",
       " 222,\n",
       " 72,\n",
       " 204,\n",
       " 58,\n",
       " 158,\n",
       " 62,\n",
       " 92,\n",
       " 226,\n",
       " 214,\n",
       " 212,\n",
       " 248,\n",
       " 250,\n",
       " 34,\n",
       " 18,\n",
       " 240,\n",
       " 128,\n",
       " 0,\n",
       " 210,\n",
       " 252,\n",
       " 218,\n",
       " 122,\n",
       " 38,\n",
       " 162,\n",
       " 10,\n",
       " 158,\n",
       " 152,\n",
       " 38,\n",
       " 146,\n",
       " 0,\n",
       " 118,\n",
       " 66,\n",
       " 148,\n",
       " 128,\n",
       " 162,\n",
       " 178,\n",
       " 144,\n",
       " 18,\n",
       " 154,\n",
       " 198,\n",
       " 94,\n",
       " 218,\n",
       " 242,\n",
       " 154,\n",
       " 214,\n",
       " 226,\n",
       " 194,\n",
       " 208,\n",
       " 198,\n",
       " 224,\n",
       " 70,\n",
       " 160,\n",
       " 198,\n",
       " 82,\n",
       " 120,\n",
       " 252,\n",
       " 20,\n",
       " 102,\n",
       " 14,\n",
       " 156,\n",
       " 250,\n",
       " 236,\n",
       " 236,\n",
       " 22,\n",
       " 254,\n",
       " 72,\n",
       " 220,\n",
       " 144,\n",
       " 90,\n",
       " 152,\n",
       " 48,\n",
       " 90,\n",
       " 34,\n",
       " 166,\n",
       " 248,\n",
       " 64,\n",
       " 178,\n",
       " 192,\n",
       " 110,\n",
       " 112,\n",
       " 78,\n",
       " 224,\n",
       " 110,\n",
       " 118,\n",
       " 70,\n",
       " 16,\n",
       " 88,\n",
       " 92,\n",
       " 246,\n",
       " 198,\n",
       " 92,\n",
       " 80,\n",
       " 0,\n",
       " 74,\n",
       " 84,\n",
       " 26,\n",
       " 108,\n",
       " 26,\n",
       " 220,\n",
       " 136,\n",
       " 86,\n",
       " 6,\n",
       " 254,\n",
       " 222,\n",
       " 136,\n",
       " 14,\n",
       " 18,\n",
       " 240,\n",
       " 252,\n",
       " 226,\n",
       " 164,\n",
       " 100,\n",
       " 98,\n",
       " 128]"
      ]
     },
     "execution_count": 67,
     "metadata": {},
     "output_type": "execute_result"
    }
   ],
   "source": [
    "blist"
   ]
  },
  {
   "cell_type": "raw",
   "id": "b30cbf8f-07d4-487f-bd72-74c192d61659",
   "metadata": {},
   "source": [
    "Разделение на пробы, убрать потом"
   ]
  },
  {
   "cell_type": "raw",
   "id": "dd9f4fb9-33ad-46ca-9ded-43fe148b93be",
   "metadata": {},
   "source": [
    "hex(subs)"
   ]
  },
  {
   "cell_type": "raw",
   "id": "21482c4b-6498-4517-8cbe-e4c2f586a24a",
   "metadata": {},
   "source": [
    "#hex(subs)\n",
    "bin(subs)"
   ]
  },
  {
   "cell_type": "raw",
   "id": "c225bcf1-e676-4913-9b62-13e6d7dda5dc",
   "metadata": {},
   "source": [
    "https://stackoverflow.com/questions/28383585/how-to-get-binary-representation-of-negative-numbers-in-python"
   ]
  },
  {
   "cell_type": "code",
   "execution_count": null,
   "id": "0629e1ca-e1a8-436b-b064-4dec700e8268",
   "metadata": {},
   "outputs": [],
   "source": [
    "# Пример, как минус 23 замутить\n",
    "bin((1 << 16) - 23)"
   ]
  },
  {
   "cell_type": "code",
   "execution_count": null,
   "id": "a40b6b1a-cbbe-40c5-b07a-b40bdcee9df9",
   "metadata": {},
   "outputs": [],
   "source": [
    "bin((1 << 8) - 23)"
   ]
  },
  {
   "cell_type": "raw",
   "id": "62c551cb-c1b2-4b36-8150-898ea4c2bbfb",
   "metadata": {},
   "source": [
    "my_hex2 = 0x20\n",
    "bin(my_hex2)"
   ]
  },
  {
   "cell_type": "raw",
   "id": "72841e00-e202-4a18-afcf-faf2873b2c9b",
   "metadata": {},
   "source": [
    "hex_not2 = my_hex2\n",
    "bin_my2 = bin(my_hex2)\n",
    "#bin_my2\n",
    "print(type(bin_my2))\n",
    "#bin(hex_not2)\n",
    "#bin(bit_not(bin_my2))"
   ]
  },
  {
   "cell_type": "raw",
   "id": "8ba13b89-5530-4ecf-a60c-f7318b08f38d",
   "metadata": {},
   "source": [
    "bin_my2"
   ]
  },
  {
   "cell_type": "raw",
   "id": "85d65f66-03e7-4916-9323-7615d6693aad",
   "metadata": {},
   "source": [
    "int_bin_my2 = int(bin_my2, base=2)"
   ]
  },
  {
   "cell_type": "raw",
   "id": "d7490489-6888-4cd7-89d8-5befa48a3248",
   "metadata": {},
   "source": [
    "bit_not(int_bin_my2)"
   ]
  },
  {
   "cell_type": "raw",
   "id": "aef85ff0-3a0c-4fa6-943a-00d690204602",
   "metadata": {},
   "source": [
    "bit_not(int(bin_my2, base=2))"
   ]
  },
  {
   "cell_type": "raw",
   "id": "95029f95-6083-4032-b0ef-d5d8679e695d",
   "metadata": {},
   "source": [
    "not_int_bin_my2 = bit_not(int_bin_my2)"
   ]
  },
  {
   "cell_type": "raw",
   "id": "d950c887-38c3-43d6-9330-4b2286aea7c2",
   "metadata": {},
   "source": [
    "bin(not_int_bin_my2)"
   ]
  },
  {
   "cell_type": "raw",
   "id": "4e9cadf8-5f2a-4698-acf9-e3c8dac15f5d",
   "metadata": {},
   "source": [
    "int_value = int(edx, base=16)\n",
    "#int_value"
   ]
  },
  {
   "cell_type": "raw",
   "id": "6035b737-77c5-41f1-81a3-19ea09bfdc0d",
   "metadata": {},
   "source": [
    "ebx = edx\n",
    "ebx"
   ]
  },
  {
   "cell_type": "raw",
   "id": "00da3ba5-d68a-4bf2-b1cd-968fdc5687fb",
   "metadata": {},
   "source": [
    "print(type(ebx))"
   ]
  },
  {
   "cell_type": "raw",
   "id": "579a0b45-3143-40dd-b798-f3e74a436d06",
   "metadata": {},
   "source": [
    "ebx = hex(data[int_ebx])\n",
    "int_ebx"
   ]
  },
  {
   "cell_type": "raw",
   "id": "2ad9c999-6510-4faf-ae9e-f372d59d9698",
   "metadata": {},
   "source": [
    "data[int_ebx]"
   ]
  },
  {
   "cell_type": "raw",
   "id": "41bf63ed-a898-41a0-a0b4-60f304800c88",
   "metadata": {},
   "source": [
    "bin(int_ebx)"
   ]
  },
  {
   "cell_type": "raw",
   "id": "63e304c1-1bcf-4c0d-a90c-5f817122a9ec",
   "metadata": {},
   "source": [
    "hex_not = ~int_ebx\n",
    "hex_not"
   ]
  },
  {
   "cell_type": "raw",
   "id": "2427a79d-3758-4b7d-9eec-7ef9d0b12ad5",
   "metadata": {},
   "source": [
    "ebx"
   ]
  },
  {
   "cell_type": "raw",
   "id": "48f6ffb7-3051-4bc0-b6af-8984f9a71e00",
   "metadata": {},
   "source": [
    "print(type(hex_not))"
   ]
  },
  {
   "cell_type": "raw",
   "id": "47a79e4c-ffd9-4de7-a7db-7204f7f4c106",
   "metadata": {},
   "source": [
    "hex(hex_not)"
   ]
  }
 ],
 "metadata": {
  "kernelspec": {
   "display_name": "Python 3 (ipykernel)",
   "language": "python",
   "name": "python3"
  },
  "language_info": {
   "codemirror_mode": {
    "name": "ipython",
    "version": 3
   },
   "file_extension": ".py",
   "mimetype": "text/x-python",
   "name": "python",
   "nbconvert_exporter": "python",
   "pygments_lexer": "ipython3",
   "version": "3.11.7"
  }
 },
 "nbformat": 4,
 "nbformat_minor": 5
}
