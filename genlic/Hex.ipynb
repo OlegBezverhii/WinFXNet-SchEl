{
 "cells": [
  {
   "cell_type": "markdown",
   "id": "593b08f8-9e0d-4058-8c76-b7272d231da3",
   "metadata": {},
   "source": [
    "Начало кода здесь.\n",
    "Считываем файл лицензии в бинарный формат"
   ]
  },
  {
   "cell_type": "code",
   "execution_count": 1,
   "id": "d70fbf80-e041-4dfe-af86-1c2d427fe127",
   "metadata": {},
   "outputs": [],
   "source": [
    "# Opening the binary file in binary mode as rb(read binary)\n",
    "f = open(\"WinFXNet.lic\", mode=\"rb\")\n",
    "# Reading file data with read() method\n",
    "data = f.read()\n",
    "# Closing the opened file\n",
    "f.close()\n",
    "\n",
    "#print('Length =', len(data))"
   ]
  },
  {
   "cell_type": "raw",
   "id": "86056e4b-89f3-43f3-abbb-05c87dacc2fa",
   "metadata": {},
   "source": [
    "# Printing our byte sequenced data \n",
    "print(data)"
   ]
  },
  {
   "cell_type": "markdown",
   "id": "a1d20e60-6e46-40ab-976d-fb380c4ea30a",
   "metadata": {},
   "source": [
    "Перекладываем в EDX по смещению 80"
   ]
  },
  {
   "cell_type": "raw",
   "id": "7ae9bf21-950c-42c9-91fc-caa1c4265fb6",
   "metadata": {},
   "source": [
    "movzx       edx,byte ptr [esi+80]"
   ]
  },
  {
   "cell_type": "code",
   "execution_count": 2,
   "id": "efc81a63-f49f-48f3-bf66-78eff82f2aa6",
   "metadata": {},
   "outputs": [],
   "source": [
    "esi = 0x80"
   ]
  },
  {
   "cell_type": "code",
   "execution_count": 3,
   "id": "b9edbe7e-a9de-427e-bf0a-1b74ad8643ff",
   "metadata": {},
   "outputs": [
    {
     "data": {
      "text/plain": [
       "'0x5f'"
      ]
     },
     "execution_count": 3,
     "metadata": {},
     "output_type": "execute_result"
    }
   ],
   "source": [
    "edx = hex(data[esi])\n",
    "edx\n",
    "#print(type(edx))"
   ]
  },
  {
   "cell_type": "raw",
   "id": "77025d65-4b7e-459a-81d5-2fb2c8cdb35d",
   "metadata": {},
   "source": [
    "mov         cl,7E"
   ]
  },
  {
   "cell_type": "code",
   "execution_count": 4,
   "id": "86ceae08-cc77-42ac-9f44-34e29c449787",
   "metadata": {},
   "outputs": [],
   "source": [
    "cl = 0x7E"
   ]
  },
  {
   "cell_type": "raw",
   "id": "28ab4612-5a0c-40e0-aebb-2bd48b847eae",
   "metadata": {},
   "source": [
    "Перекладываем в EAX по смещению 82"
   ]
  },
  {
   "cell_type": "raw",
   "id": "cd9cf3d9-7e6f-48fd-9112-66a757ec92d8",
   "metadata": {},
   "source": [
    "lea         eax,[esi+82]"
   ]
  },
  {
   "cell_type": "raw",
   "id": "a15ce085-2ef3-4502-b740-6e1b42d80e1c",
   "metadata": {},
   "source": [
    "Команда LEA в Ассемблере вычисляет эффективный адрес ИСТОЧНИКА и помещает его в ПРИЁМНИК"
   ]
  },
  {
   "cell_type": "code",
   "execution_count": 5,
   "id": "eb5688db-b3bc-4267-9296-d83b5ac8d545",
   "metadata": {},
   "outputs": [],
   "source": [
    "my_hex2 = esi + 2"
   ]
  },
  {
   "cell_type": "raw",
   "id": "ca3d8d13-9c02-403c-a8bd-d00f96cfe2c1",
   "metadata": {},
   "source": [
    "my_hex2"
   ]
  },
  {
   "cell_type": "code",
   "execution_count": 6,
   "id": "ea36efcf-4eaf-42c3-97e8-2455ae0511b2",
   "metadata": {},
   "outputs": [],
   "source": [
    "eax = hex(data[my_hex2])\n",
    "#eax"
   ]
  },
  {
   "cell_type": "markdown",
   "id": "f4639096-3543-446e-945f-092dd66587c4",
   "metadata": {},
   "source": [
    "Продумать, как сделать movzx ebx, dl"
   ]
  },
  {
   "cell_type": "raw",
   "id": "d20d804b-65bb-47ba-99da-c1c891ec0190",
   "metadata": {},
   "source": [
    "edx\n",
    "dl - это 'нижняя' часть edx"
   ]
  },
  {
   "cell_type": "code",
   "execution_count": 18,
   "id": "a232a926-8b85-48c1-bbfb-064984ab24f5",
   "metadata": {},
   "outputs": [
    {
     "data": {
      "text/plain": [
       "'0x5f'"
      ]
     },
     "execution_count": 18,
     "metadata": {},
     "output_type": "execute_result"
    }
   ],
   "source": [
    "ebx = edx\n",
    "ebx"
   ]
  },
  {
   "cell_type": "markdown",
   "id": "d7ad6e95-5ca3-404a-8f26-d9e546fa7138",
   "metadata": {},
   "source": [
    "В ebx перекладываем байты из адреса ESI+EBX\n",
    "ESI - начало файла (0)\n",
    "EBX - из ячейки выше"
   ]
  },
  {
   "cell_type": "code",
   "execution_count": 20,
   "id": "a4b2924b-ce86-42e6-bf74-b67ffcbba831",
   "metadata": {},
   "outputs": [],
   "source": [
    "int_ebx = int(ebx, base=16)"
   ]
  },
  {
   "cell_type": "code",
   "execution_count": 23,
   "id": "234ece7f-4d4c-4399-8639-832040ffac33",
   "metadata": {},
   "outputs": [
    {
     "data": {
      "text/plain": [
       "'0x20'"
      ]
     },
     "execution_count": 23,
     "metadata": {},
     "output_type": "execute_result"
    }
   ],
   "source": [
    "ebx = hex(data[int_ebx])\n",
    "ebx "
   ]
  },
  {
   "cell_type": "raw",
   "id": "c96c0a7a-4f50-4ee2-9e2d-960cf4a4caf7",
   "metadata": {},
   "source": [
    "not         bl"
   ]
  },
  {
   "cell_type": "code",
   "execution_count": 7,
   "id": "7414b630-963f-4560-ad0e-27427804e736",
   "metadata": {},
   "outputs": [],
   "source": [
    "#бинарное \n",
    "def bit_not(n, numbits=8):\n",
    "    return (1 << numbits) - 1 - n"
   ]
  },
  {
   "cell_type": "code",
   "execution_count": 45,
   "id": "b51a65f6-08db-4593-98a9-971d866a05cc",
   "metadata": {},
   "outputs": [],
   "source": [
    "int_ebx = int(ebx, base=16) #Из HEX в INT 10ый\n",
    "bin_ebx = bin(int_ebx)      #Из INT в BIN\n",
    "#bin_ebx\n",
    "int_bin_ebx = int(bin_ebx, base=2)  #Из BIN в INT 10ый"
   ]
  },
  {
   "cell_type": "raw",
   "id": "1acd6765-8cf8-43d8-9e88-5f3844513f6d",
   "metadata": {},
   "source": [
    "print(type(bin_ebx))"
   ]
  },
  {
   "cell_type": "code",
   "execution_count": 47,
   "id": "5c09cee0-b3c9-4971-b9d4-89aef2d1f246",
   "metadata": {},
   "outputs": [],
   "source": [
    "not_bl = bit_not(int_bin_ebx)"
   ]
  },
  {
   "cell_type": "code",
   "execution_count": 48,
   "id": "995b1df8-b267-4678-b01f-c08f00027007",
   "metadata": {},
   "outputs": [
    {
     "data": {
      "text/plain": [
       "'0xdf'"
      ]
     },
     "execution_count": 48,
     "metadata": {},
     "output_type": "execute_result"
    }
   ],
   "source": [
    "hex(not_bl)"
   ]
  },
  {
   "cell_type": "raw",
   "id": "2247e552-87ad-4718-aca6-22ca6cd6bc6e",
   "metadata": {},
   "source": [
    "ebx = hex(not_bl)"
   ]
  },
  {
   "cell_type": "markdown",
   "id": "ec1b4893-a82b-4e54-af31-cfd623e6681e",
   "metadata": {},
   "source": [
    "Тут решить че к чему"
   ]
  },
  {
   "cell_type": "raw",
   "id": "b30cbf8f-07d4-487f-bd72-74c192d61659",
   "metadata": {},
   "source": [
    "Разделение на пробы, убрать потом"
   ]
  }
 ],
 "metadata": {
  "kernelspec": {
   "display_name": "Python 3 (ipykernel)",
   "language": "python",
   "name": "python3"
  },
  "language_info": {
   "codemirror_mode": {
    "name": "ipython",
    "version": 3
   },
   "file_extension": ".py",
   "mimetype": "text/x-python",
   "name": "python",
   "nbconvert_exporter": "python",
   "pygments_lexer": "ipython3",
   "version": "3.11.7"
  }
 },
 "nbformat": 4,
 "nbformat_minor": 5
}
